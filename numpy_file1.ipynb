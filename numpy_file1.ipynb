{
 "cells": [
  {
   "cell_type": "code",
   "execution_count": 1,
   "id": "7b4159cd",
   "metadata": {},
   "outputs": [],
   "source": [
    "# numpy = array processing package\n",
    "\n",
    "# benefits\n",
    "#----------\n",
    "# multidimensional array support/fast\n",
    "# supports mathematical operations/computation\n",
    "# mainly supports fourier transform,random number generation,random process,algebric oprations\n",
    "# provides tools for c c++ fortran code\n",
    "# ndarray - is a single datatype(homogenous)\n",
    "import numpy as np"
   ]
  },
  {
   "cell_type": "code",
   "execution_count": 2,
   "id": "5eead08b",
   "metadata": {},
   "outputs": [
    {
     "data": {
      "text/plain": [
       "[200, 300, 400, 500, 10, 20, 30, 40]"
      ]
     },
     "execution_count": 2,
     "metadata": {},
     "output_type": "execute_result"
    }
   ],
   "source": [
    "a = [200,300,400,500]\n",
    "b = [10,20,30,40]\n",
    "a+b # perfomrs only concatenation not addition of each element in list"
   ]
  },
  {
   "cell_type": "code",
   "execution_count": 3,
   "id": "8025e66c",
   "metadata": {},
   "outputs": [
    {
     "ename": "TypeError",
     "evalue": "unsupported operand type(s) for /: 'list' and 'list'",
     "output_type": "error",
     "traceback": [
      "\u001b[1;31m---------------------------------------------------------------------------\u001b[0m",
      "\u001b[1;31mTypeError\u001b[0m                                 Traceback (most recent call last)",
      "Cell \u001b[1;32mIn[3], line 1\u001b[0m\n\u001b[1;32m----> 1\u001b[0m \u001b[43ma\u001b[49m\u001b[38;5;241;43m/\u001b[39;49m\u001b[43mb\u001b[49m\n",
      "\u001b[1;31mTypeError\u001b[0m: unsupported operand type(s) for /: 'list' and 'list'"
     ]
    }
   ],
   "source": [
    "a/b"
   ]
  },
  {
   "cell_type": "code",
   "execution_count": 4,
   "id": "a16c5e88",
   "metadata": {},
   "outputs": [],
   "source": [
    "#CREATING NUMPY ARRAY"
   ]
  },
  {
   "cell_type": "code",
   "execution_count": 5,
   "id": "0049a207",
   "metadata": {},
   "outputs": [
    {
     "name": "stdout",
     "output_type": "stream",
     "text": [
      "[200 300 400 500]\n",
      "[10 20 30 40]\n"
     ]
    }
   ],
   "source": [
    "np_a = np.array(a)\n",
    "np_b = np.array(b)\n",
    "print((np_a))\n",
    "print((np_b))\n",
    "#print(type(np_a))\n",
    "#print(type(np_b))\n"
   ]
  },
  {
   "cell_type": "code",
   "execution_count": 6,
   "id": "44a8f592",
   "metadata": {},
   "outputs": [
    {
     "data": {
      "text/plain": [
       "array([210, 320, 430, 540])"
      ]
     },
     "execution_count": 6,
     "metadata": {},
     "output_type": "execute_result"
    }
   ],
   "source": [
    "np_a + np_b # performs addition operation on each elent in numpy array"
   ]
  },
  {
   "cell_type": "code",
   "execution_count": 7,
   "id": "b65f085a",
   "metadata": {},
   "outputs": [
    {
     "data": {
      "text/plain": [
       "array([20.        , 15.        , 13.33333333, 12.5       ])"
      ]
     },
     "execution_count": 7,
     "metadata": {},
     "output_type": "execute_result"
    }
   ],
   "source": [
    "np_a / np_b"
   ]
  },
  {
   "cell_type": "code",
   "execution_count": 8,
   "id": "2887a5a7",
   "metadata": {},
   "outputs": [
    {
     "data": {
      "text/plain": [
       "array([ 2000,  6000, 12000, 20000])"
      ]
     },
     "execution_count": 8,
     "metadata": {},
     "output_type": "execute_result"
    }
   ],
   "source": [
    "np_a * np_b"
   ]
  },
  {
   "cell_type": "code",
   "execution_count": 9,
   "id": "287ec964",
   "metadata": {},
   "outputs": [
    {
     "data": {
      "text/plain": [
       "array([3, 5, 7, 9])"
      ]
     },
     "execution_count": 9,
     "metadata": {},
     "output_type": "execute_result"
    }
   ],
   "source": [
    "#types of array\n",
    "# 1d\n",
    "# 2d\n",
    "# 3d\n",
    "\n",
    "# one dimensional array\n",
    "\n",
    "one = np.array([3,5,7,9,])\n",
    "one"
   ]
  },
  {
   "cell_type": "code",
   "execution_count": 10,
   "id": "d817f7ab",
   "metadata": {},
   "outputs": [
    {
     "name": "stdout",
     "output_type": "stream",
     "text": [
      "[[ 1  2  3  4  5]\n",
      " [11 22 33 44 55]]\n"
     ]
    }
   ],
   "source": [
    "# 2d\n",
    "two = np.array([[1,2,3,4,5],[11,22,33,44,55]])\n",
    "print(two)\n",
    "#print(\"number of rows and columns :\",two.shape)\n",
    "#print(\"dimension of array:\",two.ndim)\n",
    "#print(two.size)\n",
    "#print(two.dtype)"
   ]
  },
  {
   "cell_type": "code",
   "execution_count": 11,
   "id": "18fa83e9",
   "metadata": {},
   "outputs": [
    {
     "data": {
      "text/plain": [
       "array([[[ 1,  2,  3],\n",
       "        [ 4,  5,  6],\n",
       "        [ 7,  8,  9]],\n",
       "\n",
       "       [[10, 11, 12],\n",
       "        [13, 14, 15],\n",
       "        [16, 17, 18]],\n",
       "\n",
       "       [[19, 20, 21],\n",
       "        [22, 23, 24],\n",
       "        [25, 26, 27]]])"
      ]
     },
     "execution_count": 11,
     "metadata": {},
     "output_type": "execute_result"
    }
   ],
   "source": [
    "# 3d\n",
    "three = np.array([[[1,2,3],[4,5,6],[7,8,9]],\n",
    "                  [[10,11,12],[13,14,15],[16,17,18]],\n",
    "                 [[19,20,21],[22,23,24],[25,26,27]]])\n",
    "three"
   ]
  },
  {
   "cell_type": "code",
   "execution_count": 12,
   "id": "77d3d54b",
   "metadata": {},
   "outputs": [],
   "source": [
    "# numpy attributes\n",
    "#-----------------\n",
    "# ndim - returns dimension/rank of array\n",
    "# shape - size of each dimensions(rows,columns) of array\n",
    "# size - total no of elements in array\n",
    "# dtype - returns exact datatype"
   ]
  },
  {
   "cell_type": "code",
   "execution_count": 13,
   "id": "416b3997",
   "metadata": {},
   "outputs": [
    {
     "data": {
      "text/plain": [
       "array([['skoda', 'Honda', 'Ford', 'Suzuki', 'kia'],\n",
       "       ['fabia', 'Accord', 'ecosport', 'Baleno', 'carnival']], dtype='<U8')"
      ]
     },
     "execution_count": 13,
     "metadata": {},
     "output_type": "execute_result"
    }
   ],
   "source": [
    "car = np.array([['skoda','Honda','Ford','Suzuki','kia'],\n",
    "                ['fabia','Accord','ecosport','Baleno','carnival']])\n",
    "car\n"
   ]
  },
  {
   "cell_type": "code",
   "execution_count": 14,
   "id": "1a86a9d6",
   "metadata": {},
   "outputs": [
    {
     "data": {
      "text/plain": [
       "2"
      ]
     },
     "execution_count": 14,
     "metadata": {},
     "output_type": "execute_result"
    }
   ],
   "source": [
    "car.ndim   #No of dimensions"
   ]
  },
  {
   "cell_type": "code",
   "execution_count": 15,
   "id": "dfab652b",
   "metadata": {},
   "outputs": [
    {
     "data": {
      "text/plain": [
       "(2, 5)"
      ]
     },
     "execution_count": 15,
     "metadata": {},
     "output_type": "execute_result"
    }
   ],
   "source": [
    "car.shape   #row and columns"
   ]
  },
  {
   "cell_type": "code",
   "execution_count": 16,
   "id": "7f82950e",
   "metadata": {},
   "outputs": [
    {
     "data": {
      "text/plain": [
       "10"
      ]
     },
     "execution_count": 16,
     "metadata": {},
     "output_type": "execute_result"
    }
   ],
   "source": [
    "car.size  #total elements"
   ]
  },
  {
   "cell_type": "code",
   "execution_count": 17,
   "id": "668a8cb7",
   "metadata": {},
   "outputs": [
    {
     "data": {
      "text/plain": [
       "dtype('<U8')"
      ]
     },
     "execution_count": 17,
     "metadata": {},
     "output_type": "execute_result"
    }
   ],
   "source": [
    "car.dtype  #data type"
   ]
  },
  {
   "cell_type": "code",
   "execution_count": 18,
   "id": "a2df04f9",
   "metadata": {},
   "outputs": [],
   "source": [
    "#basic operations"
   ]
  },
  {
   "cell_type": "code",
   "execution_count": 19,
   "id": "1cacb014",
   "metadata": {},
   "outputs": [],
   "source": [
    "import pandas as pd\n",
    "import numpy as np \n",
    "import matplotlib.pyplot as plt"
   ]
  },
  {
   "cell_type": "code",
   "execution_count": 20,
   "id": "cfd15a59",
   "metadata": {},
   "outputs": [
    {
     "data": {
      "text/plain": [
       "array([11, 12,  8, 11, 10,  5,  9])"
      ]
     },
     "execution_count": 20,
     "metadata": {},
     "output_type": "execute_result"
    }
   ],
   "source": [
    "day1 = np.array([4,7,5,2,8,1,3])\n",
    "day2 = np.array([7,5,3,9,2,4,6])\n",
    "\n",
    "total = day1 + day2\n",
    "total"
   ]
  },
  {
   "cell_type": "code",
   "execution_count": 21,
   "id": "88da3316",
   "metadata": {},
   "outputs": [
    {
     "name": "stdout",
     "output_type": "stream",
     "text": [
      "[-3  2  2 -7  6 -3 -3]\n"
     ]
    }
   ],
   "source": [
    "print(day1-day2)"
   ]
  },
  {
   "cell_type": "code",
   "execution_count": 22,
   "id": "fb74df9f",
   "metadata": {},
   "outputs": [
    {
     "name": "stdout",
     "output_type": "stream",
     "text": [
      "[28 35 15 18 16  4 18]\n",
      "[0.57142857 1.4        1.66666667 0.22222222 4.         0.25\n",
      " 0.5       ]\n",
      "[False  True  True False  True False False]\n",
      "[ True False False  True False  True  True]\n",
      "[False  True  True False  True False False]\n",
      "[False False False False False False False]\n"
     ]
    }
   ],
   "source": [
    "print(day1*day2)\n",
    "print(day1/day2)\n",
    "print(day1>day2)\n",
    "print(day1<day2)\n",
    "print(day1>=day2)\n",
    "print(day1==day2)"
   ]
  },
  {
   "cell_type": "code",
   "execution_count": 23,
   "id": "37de5774",
   "metadata": {},
   "outputs": [
    {
     "data": {
      "text/plain": [
       "array([[ 4,  6,  3,  8],\n",
       "       [ 5,  6,  8, 10]])"
      ]
     },
     "execution_count": 23,
     "metadata": {},
     "output_type": "execute_result"
    }
   ],
   "source": [
    "distance = np.array([[4,6,3,8],[5,6,8,10]])\n",
    "distance"
   ]
  },
  {
   "cell_type": "code",
   "execution_count": 24,
   "id": "7c9185bc",
   "metadata": {},
   "outputs": [
    {
     "data": {
      "text/plain": [
       "array([4, 6, 3, 8])"
      ]
     },
     "execution_count": 24,
     "metadata": {},
     "output_type": "execute_result"
    }
   ],
   "source": [
    "first_day = distance[0]\n",
    "first_day"
   ]
  },
  {
   "cell_type": "code",
   "execution_count": 25,
   "id": "7f1b9514",
   "metadata": {},
   "outputs": [
    {
     "data": {
      "text/plain": [
       "array([ 5,  6,  8, 10])"
      ]
     },
     "execution_count": 25,
     "metadata": {},
     "output_type": "execute_result"
    }
   ],
   "source": [
    "second_day = distance[1]\n",
    "second_day"
   ]
  },
  {
   "cell_type": "code",
   "execution_count": 26,
   "id": "cd8d3f1d",
   "metadata": {},
   "outputs": [
    {
     "data": {
      "text/plain": [
       "6"
      ]
     },
     "execution_count": 26,
     "metadata": {},
     "output_type": "execute_result"
    }
   ],
   "source": [
    "secondperson_day2 = distance[1][1]\n",
    "secondperson_day2"
   ]
  },
  {
   "cell_type": "code",
   "execution_count": 27,
   "id": "2bcddd05",
   "metadata": {},
   "outputs": [
    {
     "data": {
      "text/plain": [
       "array([6, 6])"
      ]
     },
     "execution_count": 27,
     "metadata": {},
     "output_type": "execute_result"
    }
   ],
   "source": [
    "secondperson_day_total = distance[:,1] # here : represents all rows of specified number 1\n",
    "secondperson_day_total"
   ]
  },
  {
   "cell_type": "code",
   "execution_count": 28,
   "id": "f088994f",
   "metadata": {},
   "outputs": [
    {
     "data": {
      "text/plain": [
       "array([4, 6, 3, 8])"
      ]
     },
     "execution_count": 28,
     "metadata": {},
     "output_type": "execute_result"
    }
   ],
   "source": [
    "distance[0,:]# represents all column for specified number 0"
   ]
  },
  {
   "cell_type": "code",
   "execution_count": 29,
   "id": "61ee4ad3",
   "metadata": {},
   "outputs": [
    {
     "data": {
      "text/plain": [
       "array([[6, 3],\n",
       "       [6, 8]])"
      ]
     },
     "execution_count": 29,
     "metadata": {},
     "output_type": "execute_result"
    }
   ],
   "source": [
    "p2p3_total = distance[:,1:3]\n",
    "p2p3_total"
   ]
  },
  {
   "cell_type": "code",
   "execution_count": 30,
   "id": "231c7dad",
   "metadata": {},
   "outputs": [
    {
     "name": "stdout",
     "output_type": "stream",
     "text": [
      "[4 6 3 8]\n",
      "[ 5  6  8 10]\n"
     ]
    }
   ],
   "source": [
    "for i in distance:\n",
    "    print(i)"
   ]
  },
  {
   "cell_type": "code",
   "execution_count": 31,
   "id": "a64fa26d",
   "metadata": {},
   "outputs": [
    {
     "data": {
      "text/plain": [
       "array([[False, False, False,  True],\n",
       "       [False, False,  True,  True]])"
      ]
     },
     "execution_count": 31,
     "metadata": {},
     "output_type": "execute_result"
    }
   ],
   "source": [
    "good_walk = distance>=8 # condition\n",
    "good_walk"
   ]
  },
  {
   "cell_type": "code",
   "execution_count": null,
   "id": "d1ddf4e2",
   "metadata": {},
   "outputs": [],
   "source": [
    "print(distance)"
   ]
  },
  {
   "cell_type": "code",
   "execution_count": null,
   "id": "25136091",
   "metadata": {},
   "outputs": [],
   "source": [
    "print(distance[good_walk]) # constraint (implied conditions with restrcitions)"
   ]
  },
  {
   "cell_type": "code",
   "execution_count": null,
   "id": "d19012f1",
   "metadata": {},
   "outputs": [],
   "source": [
    "car = np.array(['suzuki','toyotakirloskar','tata','benz','ford'])\n",
    "car_dup = car\n",
    "\n",
    "# shallow copy - change made in duplicate will affect the original structure\n",
    "\n",
    "print(car_dup)\n",
    "\n",
    "print(car)\n",
    "\n",
    "car_dup[3] = 'kia'\n",
    "print('after change made in duplicate')\n",
    "print('shallow:',car_dup)\n",
    "print('original:',car)"
   ]
  },
  {
   "cell_type": "code",
   "execution_count": null,
   "id": "221c53ff",
   "metadata": {},
   "outputs": [],
   "source": [
    "car_dup[3]='hindustan motors india'\n",
    "car_dup"
   ]
  },
  {
   "cell_type": "code",
   "execution_count": null,
   "id": "827d8b7c",
   "metadata": {},
   "outputs": [],
   "source": [
    "car"
   ]
  },
  {
   "cell_type": "code",
   "execution_count": null,
   "id": "4fc72483",
   "metadata": {},
   "outputs": [],
   "source": [
    "cview = car.view() # view is similar with shallow copy"
   ]
  },
  {
   "cell_type": "code",
   "execution_count": null,
   "id": "6fadbfae",
   "metadata": {},
   "outputs": [],
   "source": [
    "cview"
   ]
  },
  {
   "cell_type": "code",
   "execution_count": null,
   "id": "1c220d6c",
   "metadata": {},
   "outputs": [],
   "source": [
    "car"
   ]
  },
  {
   "cell_type": "code",
   "execution_count": null,
   "id": "a51c234d",
   "metadata": {},
   "outputs": [],
   "source": [
    "cview[2] = 'mercedes'"
   ]
  },
  {
   "cell_type": "code",
   "execution_count": null,
   "id": "678191ea",
   "metadata": {},
   "outputs": [],
   "source": [
    "#shallow copy \n",
    "cview"
   ]
  },
  {
   "cell_type": "code",
   "execution_count": null,
   "id": "c573ea20",
   "metadata": {},
   "outputs": [],
   "source": [
    "car"
   ]
  },
  {
   "cell_type": "code",
   "execution_count": null,
   "id": "fb3416ad",
   "metadata": {},
   "outputs": [],
   "source": [
    "#deep copy - change made in duplicate wont affect original\n",
    "deep = car.copy()\n",
    "deep"
   ]
  },
  {
   "cell_type": "code",
   "execution_count": null,
   "id": "1e898d81",
   "metadata": {},
   "outputs": [],
   "source": [
    "deep[3]='vk'\n",
    "deep"
   ]
  },
  {
   "cell_type": "code",
   "execution_count": null,
   "id": "613eb2c0",
   "metadata": {},
   "outputs": [],
   "source": [
    "car"
   ]
  },
  {
   "cell_type": "code",
   "execution_count": null,
   "id": "c2c59828",
   "metadata": {},
   "outputs": [],
   "source": [
    "#universal functions\n",
    "sqrt = np.sqrt([144,169,225,289])\n",
    "sqrt\n"
   ]
  },
  {
   "cell_type": "code",
   "execution_count": null,
   "id": "7e70494d",
   "metadata": {},
   "outputs": [],
   "source": [
    "np.cos(0)"
   ]
  },
  {
   "cell_type": "code",
   "execution_count": null,
   "id": "33cb1d5c",
   "metadata": {},
   "outputs": [],
   "source": [
    "np.ceil([4.2,89.6,7.8,-3.4,-9.4])"
   ]
  },
  {
   "cell_type": "code",
   "execution_count": null,
   "id": "8aceff39",
   "metadata": {},
   "outputs": [],
   "source": [
    "np.floor([4.5,89.6,7.8,-3.4,-9.4])"
   ]
  },
  {
   "cell_type": "code",
   "execution_count": null,
   "id": "75324b5f",
   "metadata": {},
   "outputs": [],
   "source": [
    "np.exp([1,2,3,4])"
   ]
  },
  {
   "cell_type": "code",
   "execution_count": null,
   "id": "45ac465b",
   "metadata": {},
   "outputs": [],
   "source": [
    "distance"
   ]
  },
  {
   "cell_type": "code",
   "execution_count": null,
   "id": "62dd5eb3",
   "metadata": {},
   "outputs": [],
   "source": [
    "# shape manipulation\n",
    "\n",
    "print(distance.ravel())  # converts and combine any array dimensions into one dimension\n",
    "print(distance)\n",
    "\n",
    "#dist = distance.ravel() # naming convention\n",
    "#print(dist)"
   ]
  },
  {
   "cell_type": "code",
   "execution_count": null,
   "id": "cb58a169",
   "metadata": {},
   "outputs": [],
   "source": [
    "print(distance.reshape(1,8))\n",
    "print(distance)"
   ]
  },
  {
   "cell_type": "code",
   "execution_count": null,
   "id": "fb7e3968",
   "metadata": {},
   "outputs": [],
   "source": [
    "distance.reshape(4,2)"
   ]
  },
  {
   "cell_type": "code",
   "execution_count": null,
   "id": "a15d8c3c",
   "metadata": {},
   "outputs": [],
   "source": [
    "distance.reshape(8,1)"
   ]
  },
  {
   "cell_type": "code",
   "execution_count": null,
   "id": "d9706ef3",
   "metadata": {},
   "outputs": [],
   "source": [
    "distance"
   ]
  },
  {
   "cell_type": "code",
   "execution_count": null,
   "id": "419ba885",
   "metadata": {},
   "outputs": [],
   "source": [
    "distance = distance.reshape(2,4)\n",
    "print(distance)"
   ]
  },
  {
   "cell_type": "code",
   "execution_count": null,
   "id": "c05da49e",
   "metadata": {},
   "outputs": [],
   "source": [
    "#print(distance.reshape(4,2))\n",
    "#deep - never change and dont affect the original structure\n",
    "print(distance)"
   ]
  },
  {
   "cell_type": "code",
   "execution_count": null,
   "id": "2b3f30a5",
   "metadata": {},
   "outputs": [],
   "source": [
    "distance.resize(4,2) #shallow - affects original structure # resize will change structure\n",
    "distance"
   ]
  },
  {
   "cell_type": "code",
   "execution_count": null,
   "id": "9d7f52d7",
   "metadata": {},
   "outputs": [],
   "source": [
    "distance"
   ]
  },
  {
   "cell_type": "code",
   "execution_count": null,
   "id": "32674787",
   "metadata": {},
   "outputs": [],
   "source": [
    "# horizontal splitting\n",
    "\n",
    "np.hsplit(distance,2)"
   ]
  },
  {
   "cell_type": "code",
   "execution_count": null,
   "id": "4afc5abb",
   "metadata": {},
   "outputs": [],
   "source": [
    "# resize - permanently changes the shape of an array\n",
    "\n",
    "distance.resize(2,4)\n",
    "distance\n",
    "#car"
   ]
  },
  {
   "cell_type": "code",
   "execution_count": null,
   "id": "bc9c65f6",
   "metadata": {},
   "outputs": [],
   "source": [
    "distance.resize(4,2)\n",
    "distance"
   ]
  },
  {
   "cell_type": "code",
   "execution_count": null,
   "id": "9de26c08",
   "metadata": {},
   "outputs": [],
   "source": [
    "np.hsplit(distance,2)"
   ]
  },
  {
   "cell_type": "code",
   "execution_count": null,
   "id": "3d85e7f7",
   "metadata": {},
   "outputs": [],
   "source": []
  },
  {
   "cell_type": "code",
   "execution_count": null,
   "id": "9d98b4ce",
   "metadata": {},
   "outputs": [],
   "source": []
  },
  {
   "cell_type": "code",
   "execution_count": null,
   "id": "1f40a6b9",
   "metadata": {},
   "outputs": [],
   "source": [
    "day1"
   ]
  },
  {
   "cell_type": "code",
   "execution_count": null,
   "id": "9707a7f2",
   "metadata": {},
   "outputs": [],
   "source": [
    "day2"
   ]
  },
  {
   "cell_type": "code",
   "execution_count": null,
   "id": "470ce1ce",
   "metadata": {},
   "outputs": [],
   "source": [
    "np.hstack([day1,day2])"
   ]
  },
  {
   "cell_type": "code",
   "execution_count": null,
   "id": "78c662b3",
   "metadata": {},
   "outputs": [],
   "source": [
    "day1"
   ]
  },
  {
   "cell_type": "code",
   "execution_count": null,
   "id": "0c415dd7",
   "metadata": {},
   "outputs": [],
   "source": [
    "day1*day2 #number of elements should be equal"
   ]
  },
  {
   "cell_type": "code",
   "execution_count": null,
   "id": "4663ffa7",
   "metadata": {},
   "outputs": [],
   "source": [
    "day1"
   ]
  },
  {
   "cell_type": "code",
   "execution_count": null,
   "id": "121362b3",
   "metadata": {},
   "outputs": [],
   "source": [
    "distance\n"
   ]
  },
  {
   "cell_type": "code",
   "execution_count": null,
   "id": "f3cf4c60",
   "metadata": {},
   "outputs": [],
   "source": [
    "# algebric equations\n",
    "\n",
    "distance.transpose()"
   ]
  },
  {
   "cell_type": "code",
   "execution_count": null,
   "id": "3371b09a",
   "metadata": {},
   "outputs": [],
   "source": [
    "np.linalg.inv(np.array([[2,4],[1,3]]))"
   ]
  },
  {
   "cell_type": "code",
   "execution_count": null,
   "id": "a6d70345",
   "metadata": {},
   "outputs": [],
   "source": [
    "np.trace(np.array([[20,4],[1,53]]))"
   ]
  },
  {
   "cell_type": "code",
   "execution_count": null,
   "id": "9d8c2a1c",
   "metadata": {},
   "outputs": [],
   "source": [
    "# addtional functions for creating arrays\n",
    "#-----------------------------------------\n",
    "# array creation using evenly spaced\n",
    "\n",
    "a = np.arange(10)\n",
    "\n",
    "print(a)\n",
    "print(type(a))\n",
    "#print('numpy arange value:',a)\n",
    "#print(type(a))\n",
    "#for i in range(10):\n",
    "#    print(i,)\n"
   ]
  },
  {
   "cell_type": "code",
   "execution_count": null,
   "id": "9e583270",
   "metadata": {},
   "outputs": [],
   "source": [
    "b = np.arange(10,51,5)\n",
    "b"
   ]
  },
  {
   "cell_type": "code",
   "execution_count": null,
   "id": "361d4cfb",
   "metadata": {},
   "outputs": [],
   "source": [
    "# array creation using number points\n",
    "c = np.linspace(0,1,6) # linspace means linear spacing in between given values\n",
    "c"
   ]
  },
  {
   "cell_type": "code",
   "execution_count": null,
   "id": "252461a3",
   "metadata": {},
   "outputs": [],
   "source": [
    "d = np.linspace(0,1,6,endpoint=False)\n",
    "d\n"
   ]
  },
  {
   "cell_type": "code",
   "execution_count": 4,
   "id": "ec2298d8",
   "metadata": {},
   "outputs": [
    {
     "data": {
      "text/plain": [
       "array([[1., 1., 1., 1.],\n",
       "       [1., 1., 1., 1.],\n",
       "       [1., 1., 1., 1.],\n",
       "       [1., 1., 1., 1.]])"
      ]
     },
     "execution_count": 4,
     "metadata": {},
     "output_type": "execute_result"
    }
   ],
   "source": [
    "# common array functions\n",
    "#------------------------\n",
    "# zeros\n",
    "# ones\n",
    "# eye\n",
    "# diag\n",
    "\n",
    "e = np.ones((4,4))\n",
    "e"
   ]
  },
  {
   "cell_type": "code",
   "execution_count": 5,
   "id": "c25441df",
   "metadata": {},
   "outputs": [
    {
     "data": {
      "text/plain": [
       "array([[0., 0., 0., 0.],\n",
       "       [0., 0., 0., 0.],\n",
       "       [0., 0., 0., 0.],\n",
       "       [0., 0., 0., 0.]])"
      ]
     },
     "execution_count": 5,
     "metadata": {},
     "output_type": "execute_result"
    }
   ],
   "source": [
    "f = np.zeros((4,4))\n",
    "f"
   ]
  },
  {
   "cell_type": "code",
   "execution_count": 6,
   "id": "cdd5969c",
   "metadata": {},
   "outputs": [
    {
     "data": {
      "text/plain": [
       "array([[1., 0., 0., 0.],\n",
       "       [0., 1., 0., 0.],\n",
       "       [0., 0., 1., 0.],\n",
       "       [0., 0., 0., 1.]])"
      ]
     },
     "execution_count": 6,
     "metadata": {},
     "output_type": "execute_result"
    }
   ],
   "source": [
    "g = np.eye(4)\n",
    "g"
   ]
  },
  {
   "cell_type": "code",
   "execution_count": 7,
   "id": "9d263f12",
   "metadata": {},
   "outputs": [
    {
     "name": "stdout",
     "output_type": "stream",
     "text": [
      "[[ 10   0   0   0   0   0   0   0   0   0]\n",
      " [  0  20   0   0   0   0   0   0   0   0]\n",
      " [  0   0  30   0   0   0   0   0   0   0]\n",
      " [  0   0   0  40   0   0   0   0   0   0]\n",
      " [  0   0   0   0  50   0   0   0   0   0]\n",
      " [  0   0   0   0   0  60   0   0   0   0]\n",
      " [  0   0   0   0   0   0  70   0   0   0]\n",
      " [  0   0   0   0   0   0   0  80   0   0]\n",
      " [  0   0   0   0   0   0   0   0  90   0]\n",
      " [  0   0   0   0   0   0   0   0   0 100]]\n"
     ]
    }
   ],
   "source": [
    "h = np.diag(np.arange(10,101,10))\n",
    "print(h)\n",
    "\n"
   ]
  },
  {
   "cell_type": "code",
   "execution_count": 10,
   "id": "a03f9ac3",
   "metadata": {},
   "outputs": [
    {
     "data": {
      "text/plain": [
       "array([0.99281927, 0.64903515, 0.86626281, 0.53440682, 0.43435373,\n",
       "       0.30250826, 0.2946739 , 0.04609151, 0.70344953, 0.17743689])"
      ]
     },
     "execution_count": 10,
     "metadata": {},
     "output_type": "execute_result"
    }
   ],
   "source": [
    "# mersenne twister prng - random number generation using np.random\n",
    "uniform = np.random.rand(10) # uniform distribution [ 0 - 1]\n",
    "uniform"
   ]
  },
  {
   "cell_type": "code",
   "execution_count": 11,
   "id": "093cda03",
   "metadata": {},
   "outputs": [
    {
     "data": {
      "text/plain": [
       "array([ 0.43750394,  1.05041028, -0.37347886, -1.81174384,  0.86566562,\n",
       "        0.41230944,  0.58575374, -0.29283165, -0.07014858, -0.00383135])"
      ]
     },
     "execution_count": 11,
     "metadata": {},
     "output_type": "execute_result"
    }
   ],
   "source": [
    "gaussian = np.random.randn(10) # normal - gaussian [-1,1] [-inf to +inf]\n",
    "gaussian"
   ]
  },
  {
   "cell_type": "code",
   "execution_count": 12,
   "id": "d289c40c",
   "metadata": {},
   "outputs": [],
   "source": [
    "s = np.random.seed(4)\n",
    "s"
   ]
  },
  {
   "cell_type": "code",
   "execution_count": 13,
   "id": "0bbaa09c",
   "metadata": {},
   "outputs": [
    {
     "data": {
      "text/plain": [
       "array([     0,      1,      2, ..., 199997, 199998, 199999])"
      ]
     },
     "execution_count": 13,
     "metadata": {},
     "output_type": "execute_result"
    }
   ],
   "source": [
    "i = np.arange(200000)\n",
    "i\n"
   ]
  },
  {
   "cell_type": "code",
   "execution_count": 14,
   "id": "b044b9fb",
   "metadata": {},
   "outputs": [
    {
     "name": "stdout",
     "output_type": "stream",
     "text": [
      "1.85 ms ± 413 µs per loop (mean ± std. dev. of 7 runs, 100 loops each)\n"
     ]
    }
   ],
   "source": [
    "%timeit i+1"
   ]
  },
  {
   "cell_type": "code",
   "execution_count": 15,
   "id": "e346167f",
   "metadata": {},
   "outputs": [
    {
     "data": {
      "text/plain": [
       "array([[1., 1., 1., 1., 1.],\n",
       "       [1., 1., 1., 1., 1.],\n",
       "       [1., 1., 1., 1., 1.],\n",
       "       [1., 1., 1., 1., 1.],\n",
       "       [1., 1., 1., 1., 1.]])"
      ]
     },
     "execution_count": 15,
     "metadata": {},
     "output_type": "execute_result"
    }
   ],
   "source": [
    "j = np.ones((5,5))\n",
    "j"
   ]
  },
  {
   "cell_type": "code",
   "execution_count": 16,
   "id": "1a18ef13",
   "metadata": {},
   "outputs": [
    {
     "data": {
      "text/plain": [
       "array([[1., 1., 1., 1., 1.],\n",
       "       [1., 1., 1., 1., 1.],\n",
       "       [1., 1., 1., 1., 1.],\n",
       "       [1., 1., 1., 1., 1.],\n",
       "       [1., 1., 1., 1., 1.]])"
      ]
     },
     "execution_count": 16,
     "metadata": {},
     "output_type": "execute_result"
    }
   ],
   "source": [
    "j * j # string handling - string methods - string repetition"
   ]
  },
  {
   "cell_type": "code",
   "execution_count": 17,
   "id": "df0588f4",
   "metadata": {},
   "outputs": [
    {
     "data": {
      "text/plain": [
       "array([[5., 5., 5., 5., 5.],\n",
       "       [5., 5., 5., 5., 5.],\n",
       "       [5., 5., 5., 5., 5.],\n",
       "       [5., 5., 5., 5., 5.],\n",
       "       [5., 5., 5., 5., 5.]])"
      ]
     },
     "execution_count": 17,
     "metadata": {},
     "output_type": "execute_result"
    }
   ],
   "source": [
    "j.dot(j)"
   ]
  },
  {
   "cell_type": "code",
   "execution_count": 20,
   "id": "3efcd651",
   "metadata": {},
   "outputs": [
    {
     "data": {
      "text/plain": [
       "array([[ 0,  0,  0],\n",
       "       [10, 10, 10],\n",
       "       [20, 20, 20],\n",
       "       [30, 30, 30]])"
      ]
     },
     "execution_count": 20,
     "metadata": {},
     "output_type": "execute_result"
    }
   ],
   "source": [
    "# broadcasting functions\n",
    "# tile\n",
    "k = np.tile(np.arange(0,40,10),(3,1)).T\n",
    "k"
   ]
  },
  {
   "cell_type": "code",
   "execution_count": 22,
   "id": "c938374c",
   "metadata": {},
   "outputs": [
    {
     "data": {
      "text/plain": [
       "array([[ 1,  2,  3],\n",
       "       [11, 12, 13],\n",
       "       [21, 22, 23],\n",
       "       [31, 32, 33]])"
      ]
     },
     "execution_count": 22,
     "metadata": {},
     "output_type": "execute_result"
    }
   ],
   "source": [
    "l = np.array([1,2,3])\n",
    "k + l"
   ]
  },
  {
   "cell_type": "code",
   "execution_count": 24,
   "id": "5c3b8e96",
   "metadata": {},
   "outputs": [],
   "source": [
    "m = np.arange(0,51,5)\n"
   ]
  },
  {
   "cell_type": "code",
   "execution_count": 25,
   "id": "e3c3e320",
   "metadata": {},
   "outputs": [
    {
     "name": "stdout",
     "output_type": "stream",
     "text": [
      "[ 0  5 10 15 20 25 30 35 40 45 50]\n"
     ]
    }
   ],
   "source": [
    "print(m)"
   ]
  },
  {
   "cell_type": "code",
   "execution_count": 26,
   "id": "dc466ca0",
   "metadata": {},
   "outputs": [
    {
     "data": {
      "text/plain": [
       "(11,)"
      ]
     },
     "execution_count": 26,
     "metadata": {},
     "output_type": "execute_result"
    }
   ],
   "source": [
    "m.shape"
   ]
  },
  {
   "cell_type": "code",
   "execution_count": 27,
   "id": "bda55d8c",
   "metadata": {},
   "outputs": [
    {
     "data": {
      "text/plain": [
       "array([[ 0],\n",
       "       [ 5],\n",
       "       [10],\n",
       "       [15],\n",
       "       [20],\n",
       "       [25],\n",
       "       [30],\n",
       "       [35],\n",
       "       [40],\n",
       "       [45],\n",
       "       [50]])"
      ]
     },
     "execution_count": 27,
     "metadata": {},
     "output_type": "execute_result"
    }
   ],
   "source": [
    "m = m[:,np.newaxis]\n",
    "m"
   ]
  },
  {
   "cell_type": "code",
   "execution_count": 28,
   "id": "744e5a51",
   "metadata": {},
   "outputs": [
    {
     "data": {
      "text/plain": [
       "(11, 1)"
      ]
     },
     "execution_count": 28,
     "metadata": {},
     "output_type": "execute_result"
    }
   ],
   "source": [
    "m.shape"
   ]
  },
  {
   "cell_type": "code",
   "execution_count": null,
   "id": "8698918b",
   "metadata": {},
   "outputs": [],
   "source": []
  },
  {
   "cell_type": "code",
   "execution_count": null,
   "id": "a88002a3",
   "metadata": {},
   "outputs": [],
   "source": []
  },
  {
   "cell_type": "code",
   "execution_count": null,
   "id": "74d46dbc",
   "metadata": {},
   "outputs": [],
   "source": []
  },
  {
   "cell_type": "code",
   "execution_count": null,
   "id": "56545fcd",
   "metadata": {},
   "outputs": [],
   "source": []
  },
  {
   "cell_type": "code",
   "execution_count": null,
   "id": "561d8bc6",
   "metadata": {},
   "outputs": [],
   "source": []
  },
  {
   "cell_type": "code",
   "execution_count": null,
   "id": "087582a5",
   "metadata": {},
   "outputs": [],
   "source": []
  }
 ],
 "metadata": {
  "kernelspec": {
   "display_name": "Python 3 (ipykernel)",
   "language": "python",
   "name": "python3"
  },
  "language_info": {
   "codemirror_mode": {
    "name": "ipython",
    "version": 3
   },
   "file_extension": ".py",
   "mimetype": "text/x-python",
   "name": "python",
   "nbconvert_exporter": "python",
   "pygments_lexer": "ipython3",
   "version": "3.12.3"
  }
 },
 "nbformat": 4,
 "nbformat_minor": 5
}
